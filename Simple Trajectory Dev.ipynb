{
 "cells": [
  {
   "cell_type": "markdown",
   "metadata": {},
   "source": [
    "# Simple Trajectory Dev\n",
    "\n",
    "- Stephen Welch \n",
    "- Welch Labs\n",
    "- August 30, 2018"
   ]
  },
  {
   "cell_type": "code",
   "execution_count": 1,
   "metadata": {
    "collapsed": false
   },
   "outputs": [
    {
     "name": "stdout",
     "output_type": "stream",
     "text": [
      "Populating the interactive namespace from numpy and matplotlib\n"
     ]
    }
   ],
   "source": [
    "%pylab inline"
   ]
  },
  {
   "cell_type": "code",
   "execution_count": 57,
   "metadata": {
    "collapsed": true
   },
   "outputs": [],
   "source": [
    "tu = 5.0 #Ramp-up time\n",
    "td = tu #Ramp-down time\n",
    "tt = 60.0 #Total Time\n",
    "\n",
    "p1 = 10200 #ticks\n",
    "p2 = p1 + 20000.0 #ticks\n",
    "\n",
    "alpha = tu/2.0"
   ]
  },
  {
   "cell_type": "code",
   "execution_count": 56,
   "metadata": {
    "collapsed": true
   },
   "outputs": [],
   "source": [
    "a = 1.0\n",
    "c = 1.0"
   ]
  },
  {
   "cell_type": "code",
   "execution_count": null,
   "metadata": {
    "collapsed": true
   },
   "outputs": [],
   "source": [
    "(a/c)*log(exp(c*(t-tu/2))+1)+b"
   ]
  },
  {
   "cell_type": "code",
   "execution_count": null,
   "metadata": {
    "collapsed": true
   },
   "outputs": [],
   "source": []
  },
  {
   "cell_type": "code",
   "execution_count": 67,
   "metadata": {
    "collapsed": false
   },
   "outputs": [
    {
     "name": "stdout",
     "output_type": "stream",
     "text": [
      "0.924141819979 20172.2757454\n"
     ]
    }
   ],
   "source": [
    "d = a*exp(c*alpha)/(exp(c*alpha)+1)\n",
    "f = (p2 + p1 - d*tt)/2\n",
    "\n",
    "print d, f"
   ]
  },
  {
   "cell_type": "code",
   "execution_count": null,
   "metadata": {
    "collapsed": false
   },
   "outputs": [],
   "source": []
  },
  {
   "cell_type": "code",
   "execution_count": 68,
   "metadata": {
    "collapsed": true
   },
   "outputs": [],
   "source": [
    "#Wrap into class later:\n",
    "def compute(t):\n",
    "    if t < tu:\n",
    "        return (a/c)*log(exp(c*(t-tu/2))+1)+b\n",
    "    elif t >= tu and t <= tt-td:\n",
    "        return d*t+f\n",
    "    elif t>tt-td:\n",
    "        return targetPosition - (a/c)*log(exp(c*(tt-td/2-t))+1)\n",
    "    "
   ]
  },
  {
   "cell_type": "code",
   "execution_count": 69,
   "metadata": {
    "collapsed": false
   },
   "outputs": [],
   "source": [
    "times = linspace(0, tt, 100)\n",
    "tP = [] #trajectoryPoints\n",
    "\n",
    "for t in times:\n",
    "    tP.append(compute(t))\n"
   ]
  },
  {
   "cell_type": "code",
   "execution_count": 70,
   "metadata": {
    "collapsed": false
   },
   "outputs": [
    {
     "data": {
      "image/png": "[encoded data removed]",
      "text/plain": [
       "<matplotlib.figure.Figure at 0x10cc75690>"
      ]
     },
     "metadata": {},
     "output_type": "display_data"
    }
   ],
   "source": [
    "fig = figure(0, (6, 6))\n",
    "plot(times, tP, 'bo')\n",
    "grid(1)"
   ]
  },
  {
   "cell_type": "code",
   "execution_count": 40,
   "metadata": {
    "collapsed": false
   },
   "outputs": [
    {
     "data": {
      "text/plain": [
       "[30197.513163847845,\n",
       " 30197.558447471078,\n",
       " 30197.603536435548,\n",
       " 30197.648422659484,\n",
       " 30197.693097811203,\n",
       " 30197.737553309398,\n",
       " 30197.781780324312,\n",
       " 30197.825769779858,\n",
       " 30197.86951235676,\n",
       " 30197.912998496846,\n",
       " 30197.956218408493,\n",
       " 30197.999162073356,\n",
       " 30198.041819254453,\n",
       " 30198.084179505659,\n",
       " 30198.126232182691,\n",
       " 30198.167966455636,\n",
       " 30198.20937132313,\n",
       " 30198.250435628153,\n",
       " 30198.291148075561,\n",
       " 30198.331497251344,\n",
       " 30198.371471643648,\n",
       " 30198.411059665545,\n",
       " 30198.450249679565,\n",
       " 30198.489030023964,\n",
       " 30198.527389040646,\n",
       " 30198.565315104745,\n",
       " 30198.602796655705,\n",
       " 30198.639822229812,\n",
       " 30198.676380494057,\n",
       " 30198.712460281095,\n",
       " 30198.748050625283,\n",
       " 30198.783140799453,\n",
       " 30198.817720352305,\n",
       " 30198.851779146171,\n",
       " 30198.885307394874,\n",
       " 30198.918295701464,\n",
       " 30198.950735095521,\n",
       " 30198.982617069745,\n",
       " 30199.013933615559,\n",
       " 30199.044677257411,\n",
       " 30199.07484108549,\n",
       " 30199.104418786552,\n",
       " 30199.133404672586,\n",
       " 30199.161793707059,\n",
       " 30199.189581528481,\n",
       " 30199.216764471024,\n",
       " 30199.243339582074,\n",
       " 30199.269304636455,\n",
       " 30199.294658147224,\n",
       " 30199.319399372929,\n",
       " 30199.343528321217,\n",
       " 30199.367045748808,\n",
       " 30199.389953157792,\n",
       " 30199.412252788312,\n",
       " 30199.433947607693,\n",
       " 30199.45504129614,\n",
       " 30199.475538229141,\n",
       " 30199.495443456774,\n",
       " 30199.514762680072,\n",
       " 30199.533502224749,\n",
       " 30199.551669012479,\n",
       " 30199.569270530032,\n",
       " 30199.586314796499,\n",
       " 30199.602810328997,\n",
       " 30199.618766107018,\n",
       " 30199.634191535835,\n",
       " 30199.649096409172,\n",
       " 30199.663490871473,\n",
       " 30199.677385380051,\n",
       " 30199.690790667308,\n",
       " 30199.703717703374,\n",
       " 30199.716177659324,\n",
       " 30199.728181871189,\n",
       " 30199.739741804988,\n",
       " 30199.750869022908,\n",
       " 30199.761575150809,\n",
       " 30199.771871847141,\n",
       " 30199.781770773432,\n",
       " 30199.791283566374,\n",
       " 30199.800421811604,\n",
       " 30199.8091970192,\n",
       " 30199.817620600952,\n",
       " 30199.825703849372,\n",
       " 30199.833457918467,\n",
       " 30199.840893806264,\n",
       " 30199.848022339011,\n",
       " 30199.854854157078,\n",
       " 30199.861399702422,\n",
       " 30199.867669207651,\n",
       " 30199.873672686565,\n",
       " 30199.879419926081,\n",
       " 30199.884920479548,\n",
       " 30199.890183661311,\n",
       " 30199.895218542468,\n",
       " 30199.900033947717,\n",
       " 30199.904638453281,\n",
       " 30199.909040385744,\n",
       " 30199.91324782178,\n",
       " 30199.917268588699,\n",
       " 30199.921110265706]"
      ]
     },
     "execution_count": 40,
     "metadata": {},
     "output_type": "execute_result"
    }
   ],
   "source": [
    "tP"
   ]
  },
  {
   "cell_type": "code",
   "execution_count": 21,
   "metadata": {
    "collapsed": false
   },
   "outputs": [
    {
     "data": {
      "text/plain": [
       "array([ 0.        ,  0.26315789,  0.52631579,  0.78947368,  1.05263158,\n",
       "        1.31578947,  1.57894737,  1.84210526,  2.10526316,  2.36842105,\n",
       "        2.63157895,  2.89473684,  3.15789474,  3.42105263,  3.68421053,\n",
       "        3.94736842,  4.21052632,  4.47368421,  4.73684211,  5.        ])"
      ]
     },
     "execution_count": 21,
     "metadata": {},
     "output_type": "execute_result"
    }
   ],
   "source": [
    "times"
   ]
  },
  {
   "cell_type": "markdown",
   "metadata": {},
   "source": [
    "Hmmm - another option here, of course, would be a spline."
   ]
  },
  {
   "cell_type": "code",
   "execution_count": null,
   "metadata": {
    "collapsed": true
   },
   "outputs": [],
   "source": []
  }
 ],
 "metadata": {
  "kernelspec": {
   "display_name": "Python 2",
   "language": "python",
   "name": "python2"
  },
  "language_info": {
   "codemirror_mode": {
    "name": "ipython",
    "version": 2
   },
   "file_extension": ".py",
   "mimetype": "text/x-python",
   "name": "python",
   "nbconvert_exporter": "python",
   "pygments_lexer": "ipython2",
   "version": "2.7.13"
  }
 },
 "nbformat": 4,
 "nbformat_minor": 0
}
