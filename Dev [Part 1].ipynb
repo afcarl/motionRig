{
 "cells": [
  {
   "cell_type": "markdown",
   "metadata": {},
   "source": [
    "# Dev [Part 1]"
   ]
  },
  {
   "cell_type": "code",
   "execution_count": 1,
   "metadata": {
    "collapsed": false
   },
   "outputs": [
    {
     "name": "stdout",
     "output_type": "stream",
     "text": [
      "Populating the interactive namespace from numpy and matplotlib\n"
     ]
    }
   ],
   "source": [
    "%pylab inline\n",
    "import sys\n",
    "from ipywidgets import interact\n",
    "\n",
    "sys.path.append('src')\n",
    "from motorControl import *"
   ]
  },
  {
   "cell_type": "code",
   "execution_count": 2,
   "metadata": {
    "collapsed": true
   },
   "outputs": [],
   "source": [
    "rc = connect(portName = \"/dev/tty.usbserial-A9ETDN3N\")"
   ]
  },
  {
   "cell_type": "code",
   "execution_count": 6,
   "metadata": {
    "collapsed": false
   },
   "outputs": [
    {
     "data": {
      "text/plain": [
       "<function motorControl.manualControl>"
      ]
     },
     "execution_count": 6,
     "metadata": {},
     "output_type": "execute_result"
    }
   ],
   "source": [
    "interact(manualControl, leftUD = (-50, 50), rightUD = (-50, 50), leftRight = (-50, 50), fB = (-50, 50), \\\n",
    "        tilt = (-50, 50), pan = (-50, 50))"
   ]
  },
  {
   "cell_type": "code",
   "execution_count": 8,
   "metadata": {
    "collapsed": false
   },
   "outputs": [],
   "source": [
    "stopAll(rc)"
   ]
  },
  {
   "cell_type": "code",
   "execution_count": null,
   "metadata": {
    "collapsed": true
   },
   "outputs": [],
   "source": [
    "#Initialize motor objects for each motor:\n",
    "LR = Motor(address = 0x80, motorNumber = 1, motorCounter = 2, adjustmentIncrement=1.0)\n",
    "FB = Motor(address = 0x80, motorNumber = 2, signFlipped = True, motorCounter = 3, adjustmentIncrement = 1.0)\n",
    "yaw = Motor(address = 0x82, motorNumber = 2, signFlipped = False, motorCounter = 4, adjustmentIncrement=0.1)\n",
    "pitch = Motor(address = 0x82, motorNumber = 1, signFlipped = False, motorCounter = 5, adjustmentIncrement=0.1)\n",
    "vL = Motor(address = 0x81, motorNumber = 2, signFlipped = True, motorCounter = 0, adjustmentIncrement = 1.0)\n",
    "vR = Motor(address = 0x81, motorNumber = 1, signFlipped = True, motorCounter = 1, adjustmentIncrement = 1.0)\n",
    "\n",
    "motors = [vL, vR, LR, FB, yaw, pitch]"
   ]
  },
  {
   "cell_type": "code",
   "execution_count": null,
   "metadata": {
    "collapsed": true
   },
   "outputs": [],
   "source": []
  },
  {
   "cell_type": "code",
   "execution_count": null,
   "metadata": {
    "collapsed": true
   },
   "outputs": [],
   "source": []
  }
 ],
 "metadata": {
  "kernelspec": {
   "display_name": "Python 2",
   "language": "python",
   "name": "python2"
  },
  "language_info": {
   "codemirror_mode": {
    "name": "ipython",
    "version": 2
   },
   "file_extension": ".py",
   "mimetype": "text/x-python",
   "name": "python",
   "nbconvert_exporter": "python",
   "pygments_lexer": "ipython2",
   "version": "2.7.13"
  }
 },
 "nbformat": 4,
 "nbformat_minor": 0
}
