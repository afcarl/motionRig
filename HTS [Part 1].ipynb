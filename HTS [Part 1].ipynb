{
 "cells": [
  {
   "cell_type": "markdown",
   "metadata": {},
   "source": [
    "# HTS [Part 1]"
   ]
  },
  {
   "cell_type": "code",
   "execution_count": 14,
   "metadata": {
    "collapsed": false
   },
   "outputs": [
    {
     "name": "stdout",
     "output_type": "stream",
     "text": [
      "Populating the interactive namespace from numpy and matplotlib\n"
     ]
    },
    {
     "name": "stderr",
     "output_type": "stream",
     "text": [
      "WARNING: pylab import has clobbered these variables: ['rc', 'f', 'connect']\n",
      "`%matplotlib` prevents importing * from pylab and numpy\n"
     ]
    }
   ],
   "source": [
    "%pylab inline\n",
    "import sys\n",
    "from ipywidgets import interact\n",
    "\n",
    "sys.path.append('src')\n",
    "from motorControl import *\n",
    "from trajectoryPlanning import *\n",
    "rc = connect(portName = \"/dev/tty.usbserial-A9ETDN3N\")"
   ]
  },
  {
   "cell_type": "markdown",
   "metadata": {},
   "source": [
    "### Initialized Motor Classes\n",
    "\n",
    "- Really important to initialze these first to restore positions from last session!"
   ]
  },
  {
   "cell_type": "code",
   "execution_count": 15,
   "metadata": {
    "collapsed": false
   },
   "outputs": [],
   "source": [
    "#Initialize motor objects for each motor:\n",
    "vL = Motor(address = 0x81, motorNumber = 2, rc = rc, signFlipped = False, \\\n",
    "           motorCounter = 0, kPID = [1e-2, 1.0])\n",
    "vR = Motor(address = 0x81, motorNumber = 1, rc = rc, signFlipped = False, \\\n",
    "           motorCounter = 1, kPID = [1e-2, 1.0])\n",
    "LR = Motor(address = 0x80, motorNumber = 1, rc = rc, signFlipped = False, \n",
    "           motorCounter = 2, kPID = [1e-2, 1.0])\n",
    "FB = Motor(address = 0x80, motorNumber = 2, rc = rc, signFlipped = True, \\\n",
    "           motorCounter = 3, kPID = [1e-2, 1.0])\n",
    "yaw = Motor(address = 0x82, motorNumber = 2, rc = rc, signFlipped = False, \\\n",
    "            motorCounter = 4, kPID = [1e-2, 1.0])\n",
    "pitch = Motor(address = 0x82, motorNumber = 1, rc = rc, signFlipped = False, \\\n",
    "              motorCounter = 5, kPID = [1e-2, 1.0])\n",
    "\n",
    "#Keep in a nice motor list:\n",
    "motors = [vL, vR, LR, FB, yaw, pitch]"
   ]
  },
  {
   "cell_type": "code",
   "execution_count": 16,
   "metadata": {
    "collapsed": false
   },
   "outputs": [
    {
     "data": {
      "text/plain": [
       "[13, -18, -69117, 58500, 19, 45288]"
      ]
     },
     "execution_count": 16,
     "metadata": {},
     "output_type": "execute_result"
    }
   ],
   "source": [
    "getPositions(motors)"
   ]
  },
  {
   "cell_type": "code",
   "execution_count": 17,
   "metadata": {
    "collapsed": false
   },
   "outputs": [
    {
     "data": {
      "text/plain": [
       "<function motorControl.manualControl>"
      ]
     },
     "execution_count": 17,
     "metadata": {},
     "output_type": "execute_result"
    }
   ],
   "source": [
    "interact(manualControl, leftUD = (-50, 50), rightUD = (-50, 50), leftRight = (-50, 50), \\\n",
    "         fB = (-50, 50), tilt = (-50, 50), pan = (-50, 50))"
   ]
  },
  {
   "cell_type": "code",
   "execution_count": 18,
   "metadata": {
    "collapsed": false
   },
   "outputs": [
    {
     "data": {
      "text/plain": [
       "[13, -18, -69117, 58500, 19, 45288]"
      ]
     },
     "execution_count": 18,
     "metadata": {},
     "output_type": "execute_result"
    }
   ],
   "source": [
    "stopAll(rc)\n",
    "savePositions(motors)\n",
    "getPositions(motors)"
   ]
  },
  {
   "cell_type": "markdown",
   "metadata": {},
   "source": [
    "### Reset Tilt Position"
   ]
  },
  {
   "cell_type": "code",
   "execution_count": 47,
   "metadata": {
    "collapsed": false
   },
   "outputs": [],
   "source": [
    "#motors[5].rc.SetEncM1(motors[5].address, 45296)"
   ]
  },
  {
   "cell_type": "code",
   "execution_count": 84,
   "metadata": {
    "collapsed": false
   },
   "outputs": [
    {
     "data": {
      "text/plain": [
       "[-136, 126, -139072, 18375, 34083, -2147]"
      ]
     },
     "execution_count": 84,
     "metadata": {},
     "output_type": "execute_result"
    }
   ],
   "source": [
    "getPositions(motors)"
   ]
  },
  {
   "cell_type": "code",
   "execution_count": 49,
   "metadata": {
    "collapsed": false
   },
   "outputs": [
    {
     "data": {
      "text/plain": [
       "[0, 0, -69159, 58530, 0, 45296]"
      ]
     },
     "execution_count": 49,
     "metadata": {},
     "output_type": "execute_result"
    }
   ],
   "source": [
    "position1"
   ]
  },
  {
   "cell_type": "code",
   "execution_count": 61,
   "metadata": {
    "collapsed": false
   },
   "outputs": [
    {
     "data": {
      "text/plain": [
       "[-64139, 64775, -137650, 79063, 16885, 8579]"
      ]
     },
     "execution_count": 61,
     "metadata": {},
     "output_type": "execute_result"
    }
   ],
   "source": [
    "position3"
   ]
  },
  {
   "cell_type": "markdown",
   "metadata": {},
   "source": [
    "## Save a new position"
   ]
  },
  {
   "cell_type": "code",
   "execution_count": 92,
   "metadata": {
    "collapsed": true
   },
   "outputs": [],
   "source": [
    "# f = open('savedPositions/home2.p', 'wb')\n",
    "# pickle.dump(getPositions(motors), f, protocol=pickle.HIGHEST_PROTOCOL)\n",
    "# f.close()"
   ]
  },
  {
   "cell_type": "markdown",
   "metadata": {},
   "source": [
    "## Load up old positions!"
   ]
  },
  {
   "cell_type": "code",
   "execution_count": 19,
   "metadata": {
    "collapsed": true
   },
   "outputs": [],
   "source": [
    "f = open('savedPositions/home.p', 'r')\n",
    "home = pickle.load(f)\n",
    "f.close()\n",
    "\n",
    "f = open('savedPositions/home2.p', 'r')\n",
    "home2 = pickle.load(f)\n",
    "f.close()\n",
    "\n",
    "\n",
    "f = open('savedPositions/position1.p', 'r')\n",
    "position1 = pickle.load(f)\n",
    "f.close()\n",
    "\n",
    "f = open('savedPositions/position2.p', 'r')\n",
    "position2 = pickle.load(f)\n",
    "f.close()\n",
    "\n",
    "f = open('savedPositions/position3.p', 'r')\n",
    "position3 = pickle.load(f)\n",
    "f.close()\n",
    "\n",
    "f = open('savedPositions/position4.p', 'r')\n",
    "position4 = pickle.load(f)\n",
    "f.close()\n",
    "\n",
    "f = open('savedPositions/position5.p', 'r')\n",
    "position5 = pickle.load(f)\n",
    "f.close()\n",
    "\n",
    "f = open('savedPositions/position6.p', 'r')\n",
    "position6 = pickle.load(f)\n",
    "f.close()"
   ]
  },
  {
   "cell_type": "markdown",
   "metadata": {},
   "source": [
    "## Move the rig"
   ]
  },
  {
   "cell_type": "code",
   "execution_count": 53,
   "metadata": {
    "collapsed": false
   },
   "outputs": [
    {
     "name": "stdout",
     "output_type": "stream",
     "text": [
      "[   -96     75    -82     11 -19533 -19537]\n",
      "2\n"
     ]
    }
   ],
   "source": [
    "targetPositions = position3\n",
    "totalTime = 20.0\n",
    "rampTime = 5.0\n",
    "\n",
    "startingPositions = getPositions(motors)\n",
    "lookAheadTime = 1.0\n",
    "tolerance = 100.0 #Anything less than this many ticks we're calling \"Not a move\"\n",
    "\n",
    "motorsToMove = []\n",
    "targetPositionsToMove = []\n",
    "for i, motor in enumerate(motors):\n",
    "    if abs(motor.getPosition()-targetPositions[i]) > tolerance:\n",
    "        motorsToMove.append(motor)\n",
    "        targetPositionsToMove.append(targetPositions[i])\n",
    "        \n",
    "trajectories = []\n",
    "for i, motor in enumerate(motorsToMove):\n",
    "    trajectories.append(SimpleQuadraticTrajectory(tu = rampTime, tt = totalTime, \\\n",
    "                                            p1 = motor.getPosition(), p2 = targetPositionsToMove[i]))\n",
    "    \n",
    "print np.array(targetPositions) - startingPositions\n",
    "print len(motorsToMove)"
   ]
  },
  {
   "cell_type": "code",
   "execution_count": 54,
   "metadata": {
    "collapsed": false,
    "scrolled": true
   },
   "outputs": [
    {
     "name": "stdout",
     "output_type": "stream",
     "text": [
      "[-63963, 64624, -137479, 78992, 16990, 7548] [-64059, 64699, -137561, 79003, 16866, 7428]\n",
      "[ 96 -75  82 -11 124 120]\n"
     ]
    }
   ],
   "source": [
    "for motor in motorsToMove:\n",
    "    motor.initialize(targetVelocityMin = -2500.0, targetVelocityMax = 2500.0)\n",
    "    motor.clearTracking()\n",
    "    \n",
    "startTime = time.time()\n",
    "timeElapsed = 0.0\n",
    "    \n",
    "while timeElapsed < totalTime:\n",
    "    timeElapsed = time.time()-startTime\n",
    "    \n",
    "    for i, motor in enumerate(motorsToMove):\n",
    "        lookAheadValue = trajectories[i].compute(timeElapsed + lookAheadTime)\n",
    "        motor.controlledMove(targetPosition = lookAheadValue, timeToReach = lookAheadTime)\n",
    "\n",
    "stopAll(rc)\n",
    "savePositions(motors)\n",
    "print getPositions(motors), targetPositions\n",
    "print getPositions(motors) - np.array(targetPositions)"
   ]
  },
  {
   "cell_type": "code",
   "execution_count": 22,
   "metadata": {
    "collapsed": true
   },
   "outputs": [],
   "source": [
    "stopAll(rc)\n",
    "savePositions(motors)"
   ]
  },
  {
   "cell_type": "code",
   "execution_count": 26,
   "metadata": {
    "collapsed": false
   },
   "outputs": [
    {
     "data": {
      "image/png": "[encoded data removed]",
      "text/plain": [
       "<matplotlib.figure.Figure at 0x10410aed0>"
      ]
     },
     "metadata": {},
     "output_type": "display_data"
    }
   ],
   "source": [
    "yaw.visualizeMove()"
   ]
  },
  {
   "cell_type": "code",
   "execution_count": 51,
   "metadata": {
    "collapsed": false
   },
   "outputs": [
    {
     "data": {
      "text/plain": [
       "[-63963, 64624, -137479, 78992, 36399, 26965]"
      ]
     },
     "execution_count": 51,
     "metadata": {},
     "output_type": "execute_result"
    }
   ],
   "source": [
    "getPositions(motors)"
   ]
  },
  {
   "cell_type": "code",
   "execution_count": null,
   "metadata": {
    "collapsed": true
   },
   "outputs": [],
   "source": []
  },
  {
   "cell_type": "code",
   "execution_count": null,
   "metadata": {
    "collapsed": true
   },
   "outputs": [],
   "source": []
  },
  {
   "cell_type": "code",
   "execution_count": null,
   "metadata": {
    "collapsed": true
   },
   "outputs": [],
   "source": []
  }
 ],
 "metadata": {
  "kernelspec": {
   "display_name": "Python 2",
   "language": "python",
   "name": "python2"
  },
  "language_info": {
   "codemirror_mode": {
    "name": "ipython",
    "version": 2
   },
   "file_extension": ".py",
   "mimetype": "text/x-python",
   "name": "python",
   "nbconvert_exporter": "python",
   "pygments_lexer": "ipython2",
   "version": "2.7.13"
  }
 },
 "nbformat": 4,
 "nbformat_minor": 0
}
