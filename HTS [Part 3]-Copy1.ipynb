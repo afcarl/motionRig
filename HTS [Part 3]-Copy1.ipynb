{
 "cells": [
  {
   "cell_type": "markdown",
   "metadata": {},
   "source": [
    "# HTS [Part 3]"
   ]
  },
  {
   "cell_type": "code",
   "execution_count": 1,
   "metadata": {
    "collapsed": false
   },
   "outputs": [
    {
     "name": "stdout",
     "output_type": "stream",
     "text": [
      "Populating the interactive namespace from numpy and matplotlib\n"
     ]
    },
    {
     "name": "stderr",
     "output_type": "stream",
     "text": [
      "//anaconda/lib/python2.7/site-packages/matplotlib/font_manager.py:273: UserWarning: Matplotlib is building the font cache using fc-list. This may take a moment.\n",
      "  warnings.warn('Matplotlib is building the font cache using fc-list. This may take a moment.')\n"
     ]
    }
   ],
   "source": [
    "%pylab inline\n",
    "import sys\n",
    "from ipywidgets import interact"
   ]
  },
  {
   "cell_type": "code",
   "execution_count": 2,
   "metadata": {
    "collapsed": false
   },
   "outputs": [],
   "source": [
    "sys.path.append('src')\n",
    "from motorControl import *\n",
    "from trajectoryPlanning import *\n",
    "from util import *\n",
    "\n",
    "## Load Absolute Home, Upper right corner, out of the way, aligned with sharpie marks\n",
    "f = open('savedPositions/absolute/home.p', 'r')\n",
    "home = pickle.load(f)\n",
    "f.close()"
   ]
  },
  {
   "cell_type": "code",
   "execution_count": 3,
   "metadata": {
    "collapsed": false
   },
   "outputs": [
    {
     "data": {
      "text/plain": [
       "1"
      ]
     },
     "execution_count": 3,
     "metadata": {},
     "output_type": "execute_result"
    }
   ],
   "source": [
    "rc = connect(portName = \"/dev/tty.usbserial-A9ETDN3N\")\n",
    "rc.Open()"
   ]
  },
  {
   "cell_type": "markdown",
   "metadata": {},
   "source": [
    "### Initialized Motor Classes\n",
    "\n",
    "- Really important to initialze these first to restore positions from last session!"
   ]
  },
  {
   "cell_type": "code",
   "execution_count": 4,
   "metadata": {
    "collapsed": false
   },
   "outputs": [],
   "source": [
    "#Initialize motor objects for each motor:\n",
    "vL = Motor(address = 0x81, motorNumber = 2, rc = rc, signFlipped = True, \\\n",
    "           motorCounter = 0, kPID = [1e-2, 1.0])\n",
    "vR = Motor(address = 0x81, motorNumber = 1, rc = rc, signFlipped = True, \\\n",
    "           motorCounter = 1, kPID = [1e-2, 1.0])\n",
    "LR = Motor(address = 0x80, motorNumber = 1, rc = rc, signFlipped = True, \n",
    "           motorCounter = 2, kPID = [1e-2, 1.0])\n",
    "FB = Motor(address = 0x80, motorNumber = 2, rc = rc, signFlipped = False, \\\n",
    "           motorCounter = 3, kPID = [1e-2, 1.0])\n",
    "yaw = Motor(address = 0x82, motorNumber = 2, rc = rc, signFlipped = True, \\\n",
    "            motorCounter = 4, kPID = [1e-2, 1.0])\n",
    "pitch = Motor(address = 0x82, motorNumber = 1, rc = rc, signFlipped = True, \\\n",
    "              motorCounter = 5, kPID = [1e-2, 1.0])\n",
    "\n",
    "#Keep in a nice motor list:\n",
    "motors = [vL, vR, LR, FB, yaw, pitch]"
   ]
  },
  {
   "cell_type": "code",
   "execution_count": 5,
   "metadata": {
    "collapsed": false
   },
   "outputs": [
    {
     "data": {
      "text/plain": [
       "[-36657, 37693, -775, -10468, -4824, -4271]"
      ]
     },
     "execution_count": 5,
     "metadata": {},
     "output_type": "execute_result"
    }
   ],
   "source": [
    "getPositions(motors)"
   ]
  },
  {
   "cell_type": "code",
   "execution_count": 6,
   "metadata": {
    "collapsed": false
   },
   "outputs": [
    {
     "data": {
      "text/plain": [
       "[-1047, -2826, 0, 0, 0, -2]"
      ]
     },
     "execution_count": 6,
     "metadata": {},
     "output_type": "execute_result"
    }
   ],
   "source": [
    "home"
   ]
  },
  {
   "cell_type": "code",
   "execution_count": 43,
   "metadata": {
    "collapsed": false
   },
   "outputs": [
    {
     "data": {
      "text/plain": [
       "<function ipywidgets.widgets.interaction.<lambda>>"
      ]
     },
     "execution_count": 43,
     "metadata": {},
     "output_type": "execute_result"
    }
   ],
   "source": [
    "MC = ManualControl(rc)\n",
    "\n",
    "interact(MC.manualControl, leftUD = (-50, 50), rightUD = (-50, 50), leftRight = (-127, 127), \\\n",
    "         fB = (-127, 127), tilt = (-50, 50), pan = (-50, 50))"
   ]
  },
  {
   "cell_type": "code",
   "execution_count": 44,
   "metadata": {
    "collapsed": false
   },
   "outputs": [
    {
     "data": {
      "text/plain": [
       "[-88030, 84024, -103437, -10468, -17547, -16290]"
      ]
     },
     "execution_count": 44,
     "metadata": {},
     "output_type": "execute_result"
    }
   ],
   "source": [
    "stopAll(rc)\n",
    "savePositions(motors)\n",
    "getPositions(motors)"
   ]
  },
  {
   "cell_type": "code",
   "execution_count": 33,
   "metadata": {
    "collapsed": false
   },
   "outputs": [
    {
     "data": {
      "text/plain": [
       "[-88030, 84024, -11178, -10468, 9235, -16290]"
      ]
     },
     "execution_count": 33,
     "metadata": {},
     "output_type": "execute_result"
    }
   ],
   "source": [
    "stopAll(rc)\n",
    "savePositions(motors)\n",
    "getPositions(motors)"
   ]
  },
  {
   "cell_type": "code",
   "execution_count": 9,
   "metadata": {
    "collapsed": false
   },
   "outputs": [
    {
     "name": "stdout",
     "output_type": "stream",
     "text": [
      "Rig is not level!, difference from home = -6055\n",
      "Rig Leveled! Difference from home = -7247\n"
     ]
    }
   ],
   "source": [
    "# levelRig(motors, home, rc, moveTime = 5.0)"
   ]
  },
  {
   "cell_type": "markdown",
   "metadata": {},
   "source": [
    "## Save absolute home\n",
    "\n",
    "- Only needed for hard resets"
   ]
  },
  {
   "cell_type": "code",
   "execution_count": 26,
   "metadata": {
    "collapsed": false
   },
   "outputs": [],
   "source": [
    "# #Upper right corner, out of the way, aligned with sharpie marks\n",
    "# f = open('savedPositions/absolute/home.p', 'wb')\n",
    "# pickle.dump(getPositions(motors), f, protocol=pickle.HIGHEST_PROTOCOL)\n",
    "# f.close()"
   ]
  },
  {
   "cell_type": "markdown",
   "metadata": {},
   "source": [
    "## Save Relative Position"
   ]
  },
  {
   "cell_type": "code",
   "execution_count": 45,
   "metadata": {
    "collapsed": false
   },
   "outputs": [],
   "source": [
    "# delta = np.array(getPositions(motors))-np.array(home)\n",
    "# f = open('savedPositions/relative/HTS2/P.p', 'wb')\n",
    "# pickle.dump(delta, f, protocol=pickle.HIGHEST_PROTOCOL)\n",
    "# f.close()"
   ]
  },
  {
   "cell_type": "markdown",
   "metadata": {},
   "source": [
    "## Load Relative Positions"
   ]
  },
  {
   "cell_type": "code",
   "execution_count": 46,
   "metadata": {
    "collapsed": true
   },
   "outputs": [],
   "source": [
    "#Position A\n",
    "f = open('savedPositions/relative/HTS2/A.p', 'r')\n",
    "A = pickle.load(f)+np.array(home) #Return to absolute coords\n",
    "f.close()\n",
    "\n",
    "#Position B\n",
    "f = open('savedPositions/relative/HTS2/B.p', 'r')\n",
    "B = pickle.load(f)+np.array(home) #Return to absolute coords\n",
    "f.close()\n",
    "\n",
    "#Position C\n",
    "f = open('savedPositions/relative/HTS2/C.p', 'r')\n",
    "C = pickle.load(f)+np.array(home) #Return to absolute coords\n",
    "f.close()\n",
    "\n",
    "#Position D\n",
    "f = open('savedPositions/relative/HTS2/D.p', 'r')\n",
    "D = pickle.load(f)+np.array(home) #Return to absolute coords\n",
    "f.close()\n",
    "\n",
    "#Position E\n",
    "f = open('savedPositions/relative/HTS2/E.p', 'r')\n",
    "E = pickle.load(f)+np.array(home) #Return to absolute coords\n",
    "f.close()\n",
    "\n",
    "#Position F\n",
    "f = open('savedPositions/relative/HTS2/F.p', 'r')\n",
    "F = pickle.load(f)+np.array(home) #Return to absolute coords\n",
    "f.close()\n",
    "\n",
    "#Position G\n",
    "f = open('savedPositions/relative/HTS2/G.p', 'r')\n",
    "G = pickle.load(f)+np.array(home) #Return to absolute coords\n",
    "f.close()\n",
    "\n",
    "#Position C960\n",
    "f = open('savedPositions/relative/HTS2/C960.p', 'r')\n",
    "C960 = pickle.load(f)+np.array(home) #Return to absolute coords\n",
    "f.close()\n",
    "\n",
    "#Position H\n",
    "f = open('savedPositions/relative/HTS2/H.p', 'r')\n",
    "H = pickle.load(f)+np.array(home) #Return to absolute coords\n",
    "f.close()\n",
    "\n",
    "#Position I\n",
    "f = open('savedPositions/relative/HTS2/I.p', 'r')\n",
    "I = pickle.load(f)+np.array(home) #Return to absolute coords\n",
    "f.close()\n",
    "\n",
    "#Position J\n",
    "f = open('savedPositions/relative/HTS2/J.p', 'r')\n",
    "J = pickle.load(f)+np.array(home) #Return to absolute coords\n",
    "f.close()\n",
    "\n",
    "#Position K\n",
    "f = open('savedPositions/relative/HTS2/K.p', 'r')\n",
    "K = pickle.load(f)+np.array(home) #Return to absolute coords\n",
    "f.close()\n",
    "\n",
    "#Position L\n",
    "f = open('savedPositions/relative/HTS2/L.p', 'r')\n",
    "L = pickle.load(f)+np.array(home) #Return to absolute coords\n",
    "f.close()\n",
    "\n",
    "#Position M\n",
    "f = open('savedPositions/relative/HTS2/M.p', 'r')\n",
    "M = pickle.load(f)+np.array(home) #Return to absolute coords\n",
    "f.close()\n",
    "\n",
    "#Position N\n",
    "f = open('savedPositions/relative/HTS2/N.p', 'r')\n",
    "N = pickle.load(f)+np.array(home) #Return to absolute coords\n",
    "f.close()\n",
    "\n",
    "#Position O\n",
    "f = open('savedPositions/relative/HTS2/O.p', 'r')\n",
    "O = pickle.load(f)+np.array(home) #Return to absolute coords\n",
    "f.close()\n",
    "\n",
    "#Position P\n",
    "f = open('savedPositions/relative/HTS2/P.p', 'r')\n",
    "P = pickle.load(f)+np.array(home) #Return to absolute coords\n",
    "f.close()"
   ]
  },
  {
   "cell_type": "markdown",
   "metadata": {},
   "source": [
    "## Move the rig"
   ]
  },
  {
   "cell_type": "code",
   "execution_count": 51,
   "metadata": {
    "collapsed": false
   },
   "outputs": [
    {
     "name": "stdout",
     "output_type": "stream",
     "text": [
      "[    0     0 92067     0 26738     0]\n",
      "Planning to move 2 motors.\n"
     ]
    }
   ],
   "source": [
    "targetPositions = O\n",
    "totalTime = 45.0\n",
    "rampTime = 5.0\n",
    "\n",
    "startingPositions = getPositions(motors)\n",
    "lookAheadTime = 1.0\n",
    "tolerance = 100.0 #Anything less than this many ticks we're calling \"Not a move\"\n",
    "\n",
    "motorsToMove = []\n",
    "targetPositionsToMove = []\n",
    "for i, motor in enumerate(motors):\n",
    "    if abs(motor.getPosition()-targetPositions[i]) > tolerance:\n",
    "        motorsToMove.append(motor)\n",
    "        targetPositionsToMove.append(targetPositions[i])\n",
    "        \n",
    "trajectories = []\n",
    "for i, motor in enumerate(motorsToMove):\n",
    "    trajectories.append(SimpleQuadraticTrajectory(tu = rampTime, tt = totalTime, \\\n",
    "                                            p1 = motor.getPosition(), p2 = targetPositionsToMove[i]))\n",
    "    \n",
    "print np.array(targetPositions) - startingPositions\n",
    "print 'Planning to move ' +  str(len(motorsToMove)) + ' motors.'"
   ]
  },
  {
   "cell_type": "code",
   "execution_count": 52,
   "metadata": {
    "collapsed": false,
    "scrolled": true
   },
   "outputs": [
    {
     "name": "stdout",
     "output_type": "stream",
     "text": [
      "voltage too low on motor 2\n",
      "excess voltage on motor 2\n",
      "excess voltage on motor 2\n",
      "excess voltage on motor 2\n",
      "[-88030, 84024, -11354, -10468, 9166, -16290] [-88030  84024 -11178 -10468   9235 -16290]\n",
      "[   0    0 -176    0  -69    0]\n"
     ]
    }
   ],
   "source": [
    "for motor in motorsToMove:\n",
    "    motor.initialize(targetVelocityMin = -25000.0, targetVelocityMax = 25000.0)\n",
    "    motor.clearTracking()\n",
    "    \n",
    "startTime = time.time()\n",
    "timeElapsed = 0.0\n",
    "    \n",
    "while timeElapsed < totalTime:\n",
    "    timeElapsed = time.time()-startTime\n",
    "    \n",
    "    for i, motor in enumerate(motorsToMove):\n",
    "        lookAheadValue = trajectories[i].compute(timeElapsed + lookAheadTime)\n",
    "        motor.controlledMove(targetPosition = lookAheadValue, timeToReach = lookAheadTime)\n",
    "\n",
    "stopAll(rc)\n",
    "savePositions(motors)\n",
    "print getPositions(motors), targetPositions\n",
    "print getPositions(motors) - np.array(targetPositions)"
   ]
  },
  {
   "cell_type": "code",
   "execution_count": 30,
   "metadata": {
    "collapsed": true
   },
   "outputs": [],
   "source": [
    "stopAll(rc)\n",
    "savePositions(motors)"
   ]
  },
  {
   "cell_type": "code",
   "execution_count": 31,
   "metadata": {
    "collapsed": false
   },
   "outputs": [
    {
     "data": {
      "text/plain": [
       "array([ -2964,  -2454, -33986,  -3689, -64656,  19806])"
      ]
     },
     "execution_count": 31,
     "metadata": {},
     "output_type": "execute_result"
    }
   ],
   "source": [
    "A"
   ]
  },
  {
   "cell_type": "code",
   "execution_count": 33,
   "metadata": {
    "collapsed": false
   },
   "outputs": [
    {
     "data": {
      "text/plain": [
       "[-2967, -2447, -33925, -3705, -64575, 19770]"
      ]
     },
     "execution_count": 33,
     "metadata": {},
     "output_type": "execute_result"
    }
   ],
   "source": [
    "getPositions(motors)"
   ]
  },
  {
   "cell_type": "code",
   "execution_count": null,
   "metadata": {
    "collapsed": true
   },
   "outputs": [],
   "source": []
  },
  {
   "cell_type": "code",
   "execution_count": null,
   "metadata": {
    "collapsed": true
   },
   "outputs": [],
   "source": []
  }
 ],
 "metadata": {
  "kernelspec": {
   "display_name": "Python 2",
   "language": "python",
   "name": "python2"
  },
  "language_info": {
   "codemirror_mode": {
    "name": "ipython",
    "version": 2
   },
   "file_extension": ".py",
   "mimetype": "text/x-python",
   "name": "python",
   "nbconvert_exporter": "python",
   "pygments_lexer": "ipython2",
   "version": "2.7.13"
  }
 },
 "nbformat": 4,
 "nbformat_minor": 0
}
