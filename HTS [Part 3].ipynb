{
 "cells": [
  {
   "cell_type": "markdown",
   "metadata": {},
   "source": [
    "# HTS [Part 3]"
   ]
  },
  {
   "cell_type": "code",
   "execution_count": 1,
   "metadata": {
    "collapsed": false
   },
   "outputs": [
    {
     "name": "stdout",
     "output_type": "stream",
     "text": [
      "Populating the interactive namespace from numpy and matplotlib\n"
     ]
    }
   ],
   "source": [
    "%pylab inline\n",
    "import sys\n",
    "from ipywidgets import interact"
   ]
  },
  {
   "cell_type": "code",
   "execution_count": 2,
   "metadata": {
    "collapsed": true
   },
   "outputs": [],
   "source": [
    "sys.path.append('src')\n",
    "from motorControl import *\n",
    "from trajectoryPlanning import *\n",
    "from util import *\n",
    "\n",
    "## Load Absolute Home, Upper right corner, out of the way, aligned with sharpie marks\n",
    "f = open('savedPositions/absolute/home.p', 'r')\n",
    "home = pickle.load(f)\n",
    "f.close()"
   ]
  },
  {
   "cell_type": "code",
   "execution_count": 3,
   "metadata": {
    "collapsed": false
   },
   "outputs": [
    {
     "data": {
      "text/plain": [
       "1"
      ]
     },
     "execution_count": 3,
     "metadata": {},
     "output_type": "execute_result"
    }
   ],
   "source": [
    "rc = connect(portName = \"/dev/tty.usbserial-A9ETDN3N\")\n",
    "rc.Open()"
   ]
  },
  {
   "cell_type": "markdown",
   "metadata": {},
   "source": [
    "### Initialized Motor Classes\n",
    "\n",
    "- Really important to initialze these first to restore positions from last session!"
   ]
  },
  {
   "cell_type": "code",
   "execution_count": 332,
   "metadata": {
    "collapsed": false
   },
   "outputs": [],
   "source": [
    "#Initialize motor objects for each motor:\n",
    "vL = Motor(address = 0x81, motorNumber = 2, rc = rc, signFlipped = True, \\\n",
    "           motorCounter = 0, kPID = [1e-2, 1.0])\n",
    "vR = Motor(address = 0x81, motorNumber = 1, rc = rc, signFlipped = True, \\\n",
    "           motorCounter = 1, kPID = [1e-2, 1.0])\n",
    "LR = Motor(address = 0x80, motorNumber = 1, rc = rc, signFlipped = True, \n",
    "           motorCounter = 2, kPID = [1e-2, 1.0])\n",
    "FB = Motor(address = 0x80, motorNumber = 2, rc = rc, signFlipped = False, \\\n",
    "           motorCounter = 3, kPID = [1e-2, 1.0])\n",
    "yaw = Motor(address = 0x82, motorNumber = 2, rc = rc, signFlipped = True, \\\n",
    "            motorCounter = 4, kPID = [1e-2, 1.0])\n",
    "pitch = Motor(address = 0x82, motorNumber = 1, rc = rc, signFlipped = True, \\\n",
    "              motorCounter = 5, kPID = [1e-2, 1.0])\n",
    "\n",
    "#Keep in a nice motor list:\n",
    "motors = [vL, vR, LR, FB, yaw, pitch]"
   ]
  },
  {
   "cell_type": "code",
   "execution_count": 333,
   "metadata": {
    "collapsed": false
   },
   "outputs": [
    {
     "data": {
      "text/plain": [
       "[-42303, 42272, 15038, 114355, -431, 10846]"
      ]
     },
     "execution_count": 333,
     "metadata": {},
     "output_type": "execute_result"
    }
   ],
   "source": [
    "getPositions(motors)"
   ]
  },
  {
   "cell_type": "code",
   "execution_count": 334,
   "metadata": {
    "collapsed": false
   },
   "outputs": [
    {
     "data": {
      "text/plain": [
       "[2, 0, 30938, 0, 0, 0]"
      ]
     },
     "execution_count": 334,
     "metadata": {},
     "output_type": "execute_result"
    }
   ],
   "source": [
    "home"
   ]
  },
  {
   "cell_type": "code",
   "execution_count": 368,
   "metadata": {
    "collapsed": false
   },
   "outputs": [
    {
     "data": {
      "text/plain": [
       "<function ipywidgets.widgets.interaction.<lambda>>"
      ]
     },
     "execution_count": 368,
     "metadata": {},
     "output_type": "execute_result"
    }
   ],
   "source": [
    "MC = ManualControl(rc)\n",
    "\n",
    "interact(MC.manualControl, leftUD = (-50, 50), rightUD = (-50, 50), leftRight = (-127, 127), \\\n",
    "         fB = (-127, 127), tilt = (-50, 50), pan = (-127, 127))"
   ]
  },
  {
   "cell_type": "code",
   "execution_count": 365,
   "metadata": {
    "collapsed": false
   },
   "outputs": [
    {
     "data": {
      "text/plain": [
       "[-2964, -1607, -49498, 97101, -65458, 28317]"
      ]
     },
     "execution_count": 365,
     "metadata": {},
     "output_type": "execute_result"
    }
   ],
   "source": [
    "stopAll(rc)\n",
    "savePositions(motors)\n",
    "getPositions(motors)"
   ]
  },
  {
   "cell_type": "code",
   "execution_count": 357,
   "metadata": {
    "collapsed": false
   },
   "outputs": [
    {
     "name": "stdout",
     "output_type": "stream",
     "text": [
      "Rig is not level!, difference from home = 1351\n",
      "Rig Leveled! Difference from home = 1359\n"
     ]
    }
   ],
   "source": [
    "levelRig(motors, home, rc, moveTime = 5.0)"
   ]
  },
  {
   "cell_type": "markdown",
   "metadata": {},
   "source": [
    "## Save absolute home\n",
    "\n",
    "- Only needed for hard resets"
   ]
  },
  {
   "cell_type": "code",
   "execution_count": 43,
   "metadata": {
    "collapsed": false
   },
   "outputs": [],
   "source": [
    "#Upper right corner, out of the way, aligned with sharpie marks\n",
    "# f = open('savedPositions/absolute/home.p', 'wb')\n",
    "# pickle.dump(getPositions(motors), f, protocol=pickle.HIGHEST_PROTOCOL)\n",
    "# f.close()"
   ]
  },
  {
   "cell_type": "markdown",
   "metadata": {},
   "source": [
    "## Save Relative Position"
   ]
  },
  {
   "cell_type": "code",
   "execution_count": 369,
   "metadata": {
    "collapsed": false
   },
   "outputs": [],
   "source": [
    "# delta = np.array(getPositions(motors))-np.array(home)\n",
    "# f = open('savedPositions/relative/HTS/reverseB.p', 'wb')\n",
    "# pickle.dump(delta, f, protocol=pickle.HIGHEST_PROTOCOL)\n",
    "# f.close()"
   ]
  },
  {
   "cell_type": "markdown",
   "metadata": {},
   "source": [
    "## Load Relative Positions"
   ]
  },
  {
   "cell_type": "code",
   "execution_count": 375,
   "metadata": {
    "collapsed": true
   },
   "outputs": [],
   "source": [
    "#Position A, directly overhead in center, pointing down\n",
    "f = open('savedPositions/relative/HTS/A.p', 'r')\n",
    "A = pickle.load(f)+np.array(home) #Return to absolute coords\n",
    "f.close()\n",
    "\n",
    "#Position B, side view, slightly angled down. \n",
    "f = open('savedPositions/relative/HTS/B.p', 'r')\n",
    "B = pickle.load(f)+np.array(home) #Return to absolute coords\n",
    "f.close()\n",
    "\n",
    "#Position C, side view, on level\n",
    "f = open('savedPositions/relative/HTS/C.p', 'r')\n",
    "C = pickle.load(f)+np.array(home) #Return to absolute coords\n",
    "f.close()\n",
    "\n",
    "#Position D, Almost overhead, angled down\n",
    "f = open('savedPositions/relative/HTS/D.p', 'r')\n",
    "D = pickle.load(f)+np.array(home) #Return to absolute coords\n",
    "f.close()\n",
    "\n",
    "#Position E, Slightly more overhead than D, angled down\n",
    "f = open('savedPositions/relative/HTS/E.p', 'r')\n",
    "E = pickle.load(f)+np.array(home) #Return to absolute coords\n",
    "f.close()\n",
    "\n",
    "#fastA\n",
    "f = open('savedPositions/relative/HTS/fastA.p', 'r')\n",
    "fastA = pickle.load(f)+np.array(home) #Return to absolute coords\n",
    "f.close()\n",
    "\n",
    "#fastB\n",
    "f = open('savedPositions/relative/HTS/fastB.p', 'r')\n",
    "fastB = pickle.load(f)+np.array(home) #Return to absolute coords\n",
    "f.close()\n",
    "\n",
    "#fastC\n",
    "f = open('savedPositions/relative/HTS/fastC.p', 'r')\n",
    "fastC = pickle.load(f)+np.array(home) #Return to absolute coords\n",
    "f.close()\n",
    "\n",
    "#fastD\n",
    "f = open('savedPositions/relative/HTS/fastD.p', 'r')\n",
    "fastD = pickle.load(f)+np.array(home) #Return to absolute coords\n",
    "f.close()\n",
    "\n",
    "#reverseA\n",
    "f = open('savedPositions/relative/HTS/reverseA.p', 'r')\n",
    "reverseA = pickle.load(f)+np.array(home) #Return to absolute coords\n",
    "f.close()\n",
    "\n",
    "#reverseB\n",
    "f = open('savedPositions/relative/HTS/reverseB.p', 'r')\n",
    "reverseB = pickle.load(f)+np.array(home) #Return to absolute coords\n",
    "f.close()\n",
    "\n"
   ]
  },
  {
   "cell_type": "markdown",
   "metadata": {},
   "source": [
    "## Move the rig"
   ]
  },
  {
   "cell_type": "code",
   "execution_count": 389,
   "metadata": {
    "collapsed": false
   },
   "outputs": [
    {
     "name": "stdout",
     "output_type": "stream",
     "text": [
      "[    0     0     0 97475   840 15992]\n",
      "Planning to move 3 motors.\n"
     ]
    }
   ],
   "source": [
    "targetPositions = reverseB\n",
    "totalTime = 15.0\n",
    "rampTime = 1.0\n",
    "\n",
    "startingPositions = getPositions(motors)\n",
    "lookAheadTime = 1.0\n",
    "tolerance = 100.0 #Anything less than this many ticks we're calling \"Not a move\"\n",
    "\n",
    "motorsToMove = []\n",
    "targetPositionsToMove = []\n",
    "for i, motor in enumerate(motors):\n",
    "    if abs(motor.getPosition()-targetPositions[i]) > tolerance:\n",
    "        motorsToMove.append(motor)\n",
    "        targetPositionsToMove.append(targetPositions[i])\n",
    "        \n",
    "trajectories = []\n",
    "for i, motor in enumerate(motorsToMove):\n",
    "    trajectories.append(SimpleQuadraticTrajectory(tu = rampTime, tt = totalTime, \\\n",
    "                                            p1 = motor.getPosition(), p2 = targetPositionsToMove[i]))\n",
    "    \n",
    "print np.array(targetPositions) - startingPositions\n",
    "print 'Planning to move ' +  str(len(motorsToMove)) + ' motors.'"
   ]
  },
  {
   "cell_type": "code",
   "execution_count": 390,
   "metadata": {
    "collapsed": false,
    "scrolled": true
   },
   "outputs": [
    {
     "name": "stdout",
     "output_type": "stream",
     "text": [
      "excess voltage on motor 3\n",
      "excess voltage on motor 3\n",
      "excess voltage on motor 3\n",
      "excess voltage on motor 3\n",
      "excess voltage on motor 3\n",
      "excess voltage on motor 3\n",
      "excess voltage on motor 3\n",
      "excess voltage on motor 3\n",
      "excess voltage on motor 3\n",
      "excess voltage on motor 3\n",
      "excess voltage on motor 3\n",
      "excess voltage on motor 3\n",
      "excess voltage on motor 3\n",
      "excess voltage on motor 3\n",
      "excess voltage on motor 3\n",
      "excess voltage on motor 3\n",
      "excess voltage on motor 3\n",
      "excess voltage on motor 3\n",
      "excess voltage on motor 3\n",
      "excess voltage on motor 3\n",
      "excess voltage on motor 3\n",
      "excess voltage on motor 3\n",
      "excess voltage on motor 3\n",
      "excess voltage on motor 3\n",
      "excess voltage on motor 3\n",
      "excess voltage on motor 3\n",
      "excess voltage on motor 3\n",
      "excess voltage on motor 3\n",
      "excess voltage on motor 3\n",
      "excess voltage on motor 3\n",
      "excess voltage on motor 3\n",
      "excess voltage on motor 3\n",
      "excess voltage on motor 3\n",
      "excess voltage on motor 3\n",
      "excess voltage on motor 3\n",
      "excess voltage on motor 3\n",
      "excess voltage on motor 3\n",
      "excess voltage on motor 3\n",
      "excess voltage on motor 3\n",
      "excess voltage on motor 3\n",
      "excess voltage on motor 3\n",
      "excess voltage on motor 3\n",
      "excess voltage on motor 3\n",
      "excess voltage on motor 3\n",
      "excess voltage on motor 3\n",
      "excess voltage on motor 3\n",
      "excess voltage on motor 3\n",
      "excess voltage on motor 3\n",
      "excess voltage on motor 3\n",
      "excess voltage on motor 3\n",
      "excess voltage on motor 3\n",
      "excess voltage on motor 3\n",
      "excess voltage on motor 3\n",
      "excess voltage on motor 3\n",
      "excess voltage on motor 3\n",
      "excess voltage on motor 3\n",
      "excess voltage on motor 3\n",
      "excess voltage on motor 3\n",
      "excess voltage on motor 3\n",
      "excess voltage on motor 3\n",
      "excess voltage on motor 3\n",
      "excess voltage on motor 3\n",
      "excess voltage on motor 3\n",
      "excess voltage on motor 3\n",
      "excess voltage on motor 3\n",
      "excess voltage on motor 3\n",
      "excess voltage on motor 3\n",
      "excess voltage on motor 3\n",
      "excess voltage on motor 3\n",
      "excess voltage on motor 3\n",
      "excess voltage on motor 3\n",
      "excess voltage on motor 3\n",
      "excess voltage on motor 3\n",
      "excess voltage on motor 3\n",
      "excess voltage on motor 3\n",
      "excess voltage on motor 3\n",
      "excess voltage on motor 3\n",
      "excess voltage on motor 3\n",
      "excess voltage on motor 3\n",
      "excess voltage on motor 3\n",
      "excess voltage on motor 3\n",
      "excess voltage on motor 3\n",
      "excess voltage on motor 3\n",
      "excess voltage on motor 3\n",
      "excess voltage on motor 3\n",
      "excess voltage on motor 3\n",
      "excess voltage on motor 3\n",
      "excess voltage on motor 3\n",
      "excess voltage on motor 3\n",
      "excess voltage on motor 3\n",
      "excess voltage on motor 3\n",
      "excess voltage on motor 3\n",
      "excess voltage on motor 3\n",
      "excess voltage on motor 3\n",
      "excess voltage on motor 3\n",
      "excess voltage on motor 3\n",
      "excess voltage on motor 3\n",
      "excess voltage on motor 3\n",
      "excess voltage on motor 3\n",
      "excess voltage on motor 3\n",
      "excess voltage on motor 3\n",
      "excess voltage on motor 3\n",
      "excess voltage on motor 3\n",
      "excess voltage on motor 3\n",
      "excess voltage on motor 3\n",
      "excess voltage on motor 3\n",
      "excess voltage on motor 3\n",
      "excess voltage on motor 3\n",
      "excess voltage on motor 3\n",
      "excess voltage on motor 3\n",
      "excess voltage on motor 3\n",
      "excess voltage on motor 3\n",
      "excess voltage on motor 3\n",
      "excess voltage on motor 3\n",
      "excess voltage on motor 3\n",
      "excess voltage on motor 3\n",
      "excess voltage on motor 3\n",
      "excess voltage on motor 3\n",
      "excess voltage on motor 3\n",
      "excess voltage on motor 3\n",
      "excess voltage on motor 3\n",
      "excess voltage on motor 3\n",
      "excess voltage on motor 3\n",
      "excess voltage on motor 3\n",
      "excess voltage on motor 3\n",
      "excess voltage on motor 3\n",
      "excess voltage on motor 3\n",
      "excess voltage on motor 3\n",
      "excess voltage on motor 3\n",
      "excess voltage on motor 3\n",
      "excess voltage on motor 3\n",
      "excess voltage on motor 3\n",
      "excess voltage on motor 3\n",
      "excess voltage on motor 3\n",
      "excess voltage on motor 3\n",
      "[-2964, -1607, -49498, 93163, -64651, 32624] [ -2964  -1607 -49498  97101 -64628  32943]\n",
      "[    0     0     0 -3938   -23  -319]\n"
     ]
    }
   ],
   "source": [
    "for motor in motorsToMove:\n",
    "    motor.initialize(targetVelocityMin = -15000.0, targetVelocityMax = 15000.0)\n",
    "    motor.clearTracking()\n",
    "    \n",
    "startTime = time.time()\n",
    "timeElapsed = 0.0\n",
    "    \n",
    "while timeElapsed < totalTime:\n",
    "    timeElapsed = time.time()-startTime\n",
    "    \n",
    "    for i, motor in enumerate(motorsToMove):\n",
    "        lookAheadValue = trajectories[i].compute(timeElapsed + lookAheadTime)\n",
    "        motor.controlledMove(targetPosition = lookAheadValue, timeToReach = lookAheadTime)\n",
    "\n",
    "stopAll(rc)\n",
    "savePositions(motors)\n",
    "print getPositions(motors), targetPositions\n",
    "print getPositions(motors) - np.array(targetPositions)"
   ]
  },
  {
   "cell_type": "code",
   "execution_count": 160,
   "metadata": {
    "collapsed": true
   },
   "outputs": [],
   "source": [
    "stopAll(rc)\n",
    "savePositions(motors)"
   ]
  },
  {
   "cell_type": "code",
   "execution_count": null,
   "metadata": {
    "collapsed": true
   },
   "outputs": [],
   "source": []
  }
 ],
 "metadata": {
  "kernelspec": {
   "display_name": "Python 2",
   "language": "python",
   "name": "python2"
  },
  "language_info": {
   "codemirror_mode": {
    "name": "ipython",
    "version": 2
   },
   "file_extension": ".py",
   "mimetype": "text/x-python",
   "name": "python",
   "nbconvert_exporter": "python",
   "pygments_lexer": "ipython2",
   "version": "2.7.13"
  }
 },
 "nbformat": 4,
 "nbformat_minor": 0
}
