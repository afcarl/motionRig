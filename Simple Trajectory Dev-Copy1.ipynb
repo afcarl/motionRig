{
 "cells": [
  {
   "cell_type": "markdown",
   "metadata": {},
   "source": [
    "# Simple Trajectory Dev [Part 2]\n",
    "\n",
    "- Stephen Welch \n",
    "- Welch Labs\n",
    "- September 1, 2017"
   ]
  },
  {
   "cell_type": "code",
   "execution_count": 1,
   "metadata": {
    "collapsed": false
   },
   "outputs": [
    {
     "name": "stdout",
     "output_type": "stream",
     "text": [
      "Populating the interactive namespace from numpy and matplotlib\n"
     ]
    }
   ],
   "source": [
    "%pylab inline"
   ]
  },
  {
   "cell_type": "code",
   "execution_count": 49,
   "metadata": {
    "collapsed": true
   },
   "outputs": [],
   "source": [
    "tu = 5.0 #Ramp-up time\n",
    "tt = 30.0 #Total Time\n",
    "td = tt - tu #Ramp-down time\n",
    "\n",
    "p1 = 100 #ticks\n",
    "p2 = 1000 #ticks"
   ]
  },
  {
   "cell_type": "code",
   "execution_count": 50,
   "metadata": {
    "collapsed": true
   },
   "outputs": [],
   "source": [
    "a = (p1-p2)/(2*(tu**2-tu*tt))\n",
    "e = -1*a\n",
    "c = 2*a*tu\n",
    "b = p1\n",
    "f = p2\n",
    "d = (p1+p2-c*tt)/2"
   ]
  },
  {
   "cell_type": "code",
   "execution_count": 51,
   "metadata": {
    "collapsed": true
   },
   "outputs": [],
   "source": [
    "def compute(t):\n",
    "    if t < tu:\n",
    "        return a*t**2+b\n",
    "    \n",
    "    elif t>=tu and t<=td:\n",
    "        return c*t+d \n",
    "        \n",
    "    elif t > td:\n",
    "        return e*(tt-t)**2+f\n",
    "        "
   ]
  },
  {
   "cell_type": "code",
   "execution_count": 52,
   "metadata": {
    "collapsed": true
   },
   "outputs": [],
   "source": [
    "times = np.linspace(0, tt, 100)\n",
    "trajectory = []\n",
    "\n",
    "for time in times:\n",
    "    trajectory.append(compute(time))"
   ]
  },
  {
   "cell_type": "code",
   "execution_count": 53,
   "metadata": {
    "collapsed": false
   },
   "outputs": [
    {
     "data": {
      "image/png": "[encoded data removed]",
      "text/plain": [
       "<matplotlib.figure.Figure at 0x10b078d10>"
      ]
     },
     "metadata": {},
     "output_type": "display_data"
    }
   ],
   "source": [
    "plot(times, trajectory)\n",
    "grid(1)"
   ]
  },
  {
   "cell_type": "markdown",
   "metadata": {},
   "source": [
    "# FUCK Yeah. #Calculus #HardThanIThought #AmIActuallyBadATTheMath?"
   ]
  },
  {
   "cell_type": "code",
   "execution_count": 54,
   "metadata": {
    "collapsed": true
   },
   "outputs": [],
   "source": [
    "class SimpleQuadraticTrajectory(object):\n",
    "    '''\n",
    "    Simple quadratic trajectory planner. (should) achieve smooth starts and stops \n",
    "    by using quadratic function at the ends, and matchign first dericatives. \n",
    "    '''\n",
    "    \n",
    "    def __init__(self, tu, tt, p1, p2):\n",
    "        \n",
    "        self.tu = tu #Ramp-up time\n",
    "        self.tt = tt #Total Time\n",
    "        self.td = tt - tu # Ramp-down time, presently I've only implement this when the time to \n",
    "                          # ramp up equals the time to ramp down!\n",
    "\n",
    "        self.p1 = p1 # starting position, ticks\n",
    "        self.p2 = p2 # ending position, ticks\n",
    "        \n",
    "        #Compute linear and quadratic coefficients!\n",
    "        self.a = (self.p1-self.p2)/(2*(self.tu**2-self.tu*self.tt))\n",
    "        self.e = -1*self.a\n",
    "        self.c = 2*self.a*self.tu\n",
    "        self.b = self.p1\n",
    "        self.f = self.p2\n",
    "        self.d = (self.p1+self.p2-self.c*self.tt)/2\n",
    "        \n",
    "    def compute(self, t):\n",
    "        if t < self.tu:\n",
    "            return self.a*t**2+self.b\n",
    "\n",
    "        elif t>=self.tu and t<=self.td:\n",
    "            return self.c*t+self.d \n",
    "\n",
    "        elif t > self.td:\n",
    "            return self.e*(self.tt-t)**2+self.f\n",
    "    \n",
    "    def visualize(self):\n",
    "        times = np.linspace(0, self.tt, 100)\n",
    "        trajectory = []\n",
    "\n",
    "        for tim in times:\n",
    "            trajectory.append(self.compute(tim))\n",
    "            \n",
    "        plt.plot(times, trajectory)\n",
    "        plt.grid(1)   "
   ]
  },
  {
   "cell_type": "code",
   "execution_count": 55,
   "metadata": {
    "collapsed": true
   },
   "outputs": [],
   "source": [
    "SQT = SimpleQuadraticTrajectory(tu = 5, tt = 30, p1 = 100, p2 = 1000)"
   ]
  },
  {
   "cell_type": "code",
   "execution_count": 56,
   "metadata": {
    "collapsed": false
   },
   "outputs": [
    {
     "data": {
      "image/png": "[encoded data removed]",
      "text/plain": [
       "<matplotlib.figure.Figure at 0x10a804fd0>"
      ]
     },
     "metadata": {},
     "output_type": "display_data"
    }
   ],
   "source": [
    "SQT.visualize()"
   ]
  },
  {
   "cell_type": "code",
   "execution_count": 57,
   "metadata": {
    "collapsed": false
   },
   "outputs": [
    {
     "name": "stdout",
     "output_type": "stream",
     "text": [
      "3.6 100 36.0 10.0 -3.6 1000\n"
     ]
    }
   ],
   "source": [
    "print a, b, c, d, e, f"
   ]
  },
  {
   "cell_type": "code",
   "execution_count": 60,
   "metadata": {
    "collapsed": false
   },
   "outputs": [
    {
     "name": "stdout",
     "output_type": "stream",
     "text": [
      "3 100 30\n"
     ]
    }
   ],
   "source": [
    "print SQT.a, SQT.b, SQT.c, "
   ]
  },
  {
   "cell_type": "code",
   "execution_count": null,
   "metadata": {
    "collapsed": true
   },
   "outputs": [],
   "source": []
  }
 ],
 "metadata": {
  "kernelspec": {
   "display_name": "Python 2",
   "language": "python",
   "name": "python2"
  },
  "language_info": {
   "codemirror_mode": {
    "name": "ipython",
    "version": 2
   },
   "file_extension": ".py",
   "mimetype": "text/x-python",
   "name": "python",
   "nbconvert_exporter": "python",
   "pygments_lexer": "ipython2",
   "version": "2.7.13"
  }
 },
 "nbformat": 4,
 "nbformat_minor": 0
}
